{
 "cells": [
  {
   "cell_type": "code",
   "execution_count": 1,
   "id": "absolute-colonial",
   "metadata": {},
   "outputs": [
    {
     "data": {
      "text/html": [
       " <script type=\"text/Javascript\"> MathJax.Hub.Config({ TeX: { equationNumbers: { autoNumber: \"AMS\", useLabelIds: true } }});\n",
       "</script> "
      ],
      "text/plain": [
       "<IPython.core.display.HTML object>"
      ]
     },
     "execution_count": 1,
     "metadata": {},
     "output_type": "execute_result"
    }
   ],
   "source": [
    "from IPython.display import HTML\n",
    "js = r\"\"\" <script type=\"text/Javascript\"> MathJax.Hub.Config({ TeX: { equationNumbers: { autoNumber: \"AMS\", useLabelIds: true } }});\n",
    "</script> \"\"\"\n",
    "HTML(js)"
   ]
  },
  {
   "cell_type": "markdown",
   "id": "alike-shooting",
   "metadata": {},
   "source": [
    "# Расчёт стропильной системы\n",
    "\n",
    "## Сбор нагрузок\n",
    "\n",
    "На крышу действуют постоянные $P_{d}$ и временные (длительные $P_{l}$ , кратковременные $P_{t}$ , особые $P_{s}$ ) нагрузки.\n",
    "\n",
    "Постоянные нагрузки: от веса частей сооружения, в том числе несущих строительных конструкций.\n",
    "\n",
    "Временные кратковременные нагрузки: от веса людей и оборудования во время производства работ на крыше.\n",
    "\n",
    "Временные длительные нагрузки: снеговая нагрузка.\n",
    "\n",
    "### Постоянные нагрузки\n",
    "\n",
    "Нормативное значение равномерно распределенных постоянных нагрузок определяется по формуле (1.1): \n",
    "\n",
    "$$\n",
    "\\begin{align}\n",
    "q_{H} = t\\gamma\\label{eq1}\n",
    "\\end{align}\n",
    "$$\n",
    "\n",
    "$$\n",
    "\\begin{align}\n",
    "q_{H} = t\\gamma\\label{eq2}\n",
    "\\end{align}\n",
    "$$\n",
    "\n",
    "\n",
    "see (\\ref{eq1})\n",
    "\n",
    "𝑞𝑞н = 𝑡𝑡 ∙ 𝛾𝛾,. (1.1) где 𝑡𝑡 – толщина конструкции; 𝛾𝛾 – удельный вес конструкции. Расчетное значение нагрузок определяется по формуле (1.2): 𝑞𝑞р = 𝑞𝑞н ∙ 𝛾𝛾𝑓𝑓 ,. (1.2) где 𝛾𝛾𝑓𝑓 – коэффициент надежности по нагрузке. Коэффициенты надежности по нагрузке 𝛾𝛾𝑓𝑓 для веса строительных кон- струкций и грунтов приведены в табл. 7.1 [13] и в табл. В2 в Приложении В.\n"
   ]
  },
  {
   "cell_type": "code",
   "execution_count": null,
   "id": "described-point",
   "metadata": {},
   "outputs": [],
   "source": []
  }
 ],
 "metadata": {
  "celltoolbar": "Отсутствует",
  "kernelspec": {
   "display_name": "Python 3",
   "language": "python",
   "name": "python3"
  },
  "language_info": {
   "codemirror_mode": {
    "name": "ipython",
    "version": 3
   },
   "file_extension": ".py",
   "mimetype": "text/x-python",
   "name": "python",
   "nbconvert_exporter": "python",
   "pygments_lexer": "ipython3",
   "version": "3.8.10"
  }
 },
 "nbformat": 4,
 "nbformat_minor": 5
}
